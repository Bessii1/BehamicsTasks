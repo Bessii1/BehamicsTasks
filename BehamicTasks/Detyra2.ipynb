{
 "cells": [
  {
   "cell_type": "code",
   "execution_count": 1,
   "metadata": {},
   "outputs": [],
   "source": [
    "import pandas as pd\n",
    "from pymongo import MongoClient as mc\n",
    "import seaborn as sns"
   ]
  },
  {
   "cell_type": "code",
   "execution_count": 2,
   "metadata": {},
   "outputs": [
    {
     "data": {
      "text/html": [
       "<div>\n",
       "<style scoped>\n",
       "    .dataframe tbody tr th:only-of-type {\n",
       "        vertical-align: middle;\n",
       "    }\n",
       "\n",
       "    .dataframe tbody tr th {\n",
       "        vertical-align: top;\n",
       "    }\n",
       "\n",
       "    .dataframe thead th {\n",
       "        text-align: right;\n",
       "    }\n",
       "</style>\n",
       "<table border=\"1\" class=\"dataframe\">\n",
       "  <thead>\n",
       "    <tr style=\"text-align: right;\">\n",
       "      <th></th>\n",
       "      <th>Total</th>\n",
       "    </tr>\n",
       "  </thead>\n",
       "  <tbody>\n",
       "    <tr>\n",
       "      <th>GuestTrue</th>\n",
       "      <td>258</td>\n",
       "    </tr>\n",
       "    <tr>\n",
       "      <th>GuestFalse</th>\n",
       "      <td>108</td>\n",
       "    </tr>\n",
       "  </tbody>\n",
       "</table>\n",
       "</div>"
      ],
      "text/plain": [
       "            Total\n",
       "GuestTrue     258\n",
       "GuestFalse    108"
      ]
     },
     "execution_count": 2,
     "metadata": {},
     "output_type": "execute_result"
    }
   ],
   "source": [
    "myClient = mc(\"mongodb://localhost:27017\")\n",
    "myDb = myClient['db_test']\n",
    "myCol = myDb['checkout']\n",
    "myQuery = myCol.aggregate([\n",
    "    { \"$match\": { \"target\": \"vergani\" } },\n",
    "    {\n",
    "        \"$group\": { \n",
    "            \"_id\" : 1,\n",
    "            \"GuestTrue\": {\"$sum\": {\"$cond\": [{\"$eq\":[\"$guest\", True]}, 1, 0]}},\n",
    "            \"GuestFalse\": {\"$sum\": {\"$cond\": [{\"$eq\":[\"$guest\", False]}, 1, 0]}}\n",
    "                }\n",
    "    },\n",
    "    {\"$project\": {\"_id\":0}}\n",
    "])\n",
    "\n",
    "dataToPerform = pd.DataFrame(myQuery).T.rename({0:\"Total\"},axis=1)\n",
    "dataToPerform\n"
   ]
  },
  {
   "cell_type": "code",
   "execution_count": 3,
   "metadata": {},
   "outputs": [
    {
     "data": {
      "text/html": [
       "<div>\n",
       "<style scoped>\n",
       "    .dataframe tbody tr th:only-of-type {\n",
       "        vertical-align: middle;\n",
       "    }\n",
       "\n",
       "    .dataframe tbody tr th {\n",
       "        vertical-align: top;\n",
       "    }\n",
       "\n",
       "    .dataframe thead th {\n",
       "        text-align: right;\n",
       "    }\n",
       "</style>\n",
       "<table border=\"1\" class=\"dataframe\">\n",
       "  <thead>\n",
       "    <tr style=\"text-align: right;\">\n",
       "      <th></th>\n",
       "      <th>Total</th>\n",
       "    </tr>\n",
       "  </thead>\n",
       "  <tbody>\n",
       "    <tr>\n",
       "      <th>GuestTrue</th>\n",
       "      <td>258</td>\n",
       "    </tr>\n",
       "    <tr>\n",
       "      <th>GuestFalse</th>\n",
       "      <td>108</td>\n",
       "    </tr>\n",
       "  </tbody>\n",
       "</table>\n",
       "</div>"
      ],
      "text/plain": [
       "            Total\n",
       "GuestTrue     258\n",
       "GuestFalse    108"
      ]
     },
     "execution_count": 3,
     "metadata": {},
     "output_type": "execute_result"
    }
   ],
   "source": [
    "#normalizing data \n",
    "data = pd.json_normalize(list(myCol.find()))\n",
    "data = data.query(\"target=='vergani'\")\n",
    "\n",
    "dataTrue = data[data['guest'] == True]['guest'].reset_index().drop('index',axis=1).count()\n",
    "dataFalse = data[data['guest'] == False]['guest'].reset_index().drop('index',axis=1).count()\n",
    "dataToPerform = pd.DataFrame({\"GuestTrue\":dataTrue,\"GuestFalse\":dataFalse}).T.rename({'guest':\"Total\"},axis=1)\n",
    "dataToPerform"
   ]
  },
  {
   "cell_type": "code",
   "execution_count": 4,
   "metadata": {},
   "outputs": [
    {
     "data": {
      "text/plain": [
       "<AxesSubplot:ylabel='Total'>"
      ]
     },
     "execution_count": 4,
     "metadata": {},
     "output_type": "execute_result"
    },
    {
     "data": {
      "image/png": "[encoded data removed]",
      "text/plain": [
       "<Figure size 432x288 with 1 Axes>"
      ]
     },
     "metadata": {},
     "output_type": "display_data"
    }
   ],
   "source": [
    "sns.set()\n",
    "sns.barplot(x=dataToPerform.index, y='Total',data=dataToPerform, hue='Total',palette=\"rocket\",dodge=False)"
   ]
  }
 ],
 "metadata": {
  "kernelspec": {
   "display_name": "Python 3",
   "language": "python",
   "name": "python3"
  },
  "language_info": {
   "codemirror_mode": {
    "name": "ipython",
    "version": 3
   },
   "file_extension": ".py",
   "mimetype": "text/x-python",
   "name": "python",
   "nbconvert_exporter": "python",
   "pygments_lexer": "ipython3",
   "version": "3.8.5"
  }
 },
 "nbformat": 4,
 "nbformat_minor": 4
}
